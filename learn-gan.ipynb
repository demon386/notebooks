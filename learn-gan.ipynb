{
 "cells": [
  {
   "cell_type": "code",
   "execution_count": 167,
   "metadata": {},
   "outputs": [
    {
     "name": "stdout",
     "output_type": "stream",
     "text": [
      "CPython 3.6.1\n",
      "IPython 6.0.0\n",
      "\n",
      "torch 0.1.12_2\n",
      "numpy 1.12.1\n",
      "sklearn 0.18.1\n",
      "\n",
      "compiler   : GCC 4.2.1 Compatible Apple LLVM 8.1.0 (clang-802.0.38)\n",
      "system     : Darwin\n",
      "release    : 16.6.0\n",
      "machine    : x86_64\n",
      "processor  : i386\n",
      "CPU cores  : 4\n",
      "interpreter: 64bit\n"
     ]
    }
   ],
   "source": [
    "# 代码运行环境\n",
    "%load_ext watermark\n",
    "%watermark -p torch,numpy,sklearn -v -m"
   ]
  },
  {
   "cell_type": "code",
   "execution_count": 30,
   "metadata": {
    "autoscroll": false,
    "collapsed": true,
    "ein.tags": "worksheet-0",
    "slideshow": {
     "slide-type": "-"
    }
   },
   "outputs": [],
   "source": [
    "%matplotlib inline"
   ]
  },
  {
   "cell_type": "code",
   "execution_count": 31,
   "metadata": {
    "autoscroll": false,
    "collapsed": true,
    "ein.tags": "worksheet-0",
    "slideshow": {
     "slide-type": "-"
    }
   },
   "outputs": [],
   "source": [
    "import matplotlib.pyplot as plt\n",
    "import scipy.stats as stats\n",
    "import sklearn.metrics as metrics\n",
    "import numpy as np"
   ]
  },
  {
   "cell_type": "markdown",
   "metadata": {
    "ein.tags": "worksheet-0",
    "slideshow": {
     "slide-type": "-"
    }
   },
   "source": [
    "## 数据分布的概念\n",
    "- $P(X)$\n",
    "    - 本质上就是一个函数，值域(Range)固定在 [0, 1]。定义域及映射决定了这个「分布」 \n",
    "    - 就其一般形式，$X$ 只要是一个集合即可。机器学习中常用的就是 $\\mathbb{R}^N$ 即 N 维数组"
   ]
  },
  {
   "cell_type": "markdown",
   "metadata": {
    "ein.tags": "worksheet-0",
    "slideshow": {
     "slide-type": "-"
    }
   },
   "source": [
    "### 简单的二分类数据分布"
   ]
  },
  {
   "cell_type": "code",
   "execution_count": 3,
   "metadata": {
    "autoscroll": false,
    "collapsed": true,
    "ein.tags": "worksheet-0",
    "slideshow": {
     "slide-type": "-"
    }
   },
   "outputs": [],
   "source": [
    "class0_data = np.random.rand(200, 2)\n",
    "class1_data = np.random.rand(200, 2) + 3"
   ]
  },
  {
   "cell_type": "code",
   "execution_count": 4,
   "metadata": {
    "autoscroll": false,
    "ein.tags": "worksheet-0",
    "slideshow": {
     "slide-type": "-"
    }
   },
   "outputs": [
    {
     "data": {
      "image/png": "[encoded data removed]",
      "text/plain": [
       "<matplotlib.figure.Figure at 0x11354ff98>"
      ]
     },
     "metadata": {},
     "output_type": "display_data"
    }
   ],
   "source": [
    "plt.plot(class0_data[:, 0], class0_data[:, 1], '.', class1_data[:, 0], class1_data[:, 1], '.');"
   ]
  },
  {
   "cell_type": "markdown",
   "metadata": {
    "ein.tags": "worksheet-0",
    "slideshow": {
     "slide-type": "-"
    }
   },
   "source": [
    "上面这个例子是来自 $\\mathbb{R}^2$ 的两类数据的「分布」，即 $P(X|y=0)$ 及 $P(X|y=1)$"
   ]
  },
  {
   "cell_type": "markdown",
   "metadata": {
    "ein.tags": "worksheet-0",
    "slideshow": {
     "slide-type": "-"
    }
   },
   "source": [
    "## Discriminative vs Generative model"
   ]
  },
  {
   "cell_type": "markdown",
   "metadata": {
    "ein.tags": "worksheet-0",
    "slideshow": {
     "slide-type": "-"
    }
   },
   "source": [
    "Generative Model（以下简称 GM）的典型例子是朴素贝叶斯，通过 GM 可以计算 $P(X, y)$ 的联合分布。Discriminative Model（以下简称DM）的典型例子是 Logistic Regression，其只能直接得到 $P(y|X)$。\n",
    "- 对 GM 来说，得到 $P(X|y)$ 其实也就意味着得到了联合分布 $P(X, y)$，反之亦然。因为先验分布 $P(y)$ 往往很容易统计或者知道。\n",
    "  - 得到 $P(X|y)$ 之后，通过贝叶斯公式即可得到 $P(y|X) = \\frac{P(X|y)P(y)}{\\sum_k P(X|y_k)P(Y_k)}$，$k$ 为 $y$ 的类别数\n",
    "- 而对 DM 来说，得到 $P(y|X)$ 并没有办法通过概率公式反推联合分布 $P(X,y)$，因为 $P(X)$ 对高维输入来说往往难以通过记数进行准确估计\n",
    "\n",
    "GM 相当于有更丰富的输入分布信息，因此 GM 可以对输入进行采样，得到有意义的输入，比如在 $P(X|y=1)$ 中采样得到一个典型的「正例」样本。但这也对模型提出了更多的要求和假设。\n",
    "\n",
    "> \"one should solve the [classification] problem directly and never solve a more general problem as an intermediate step [such as modeling p(xly)].\" -- Vapnik"
   ]
  },
  {
   "cell_type": "markdown",
   "metadata": {
    "ein.tags": "worksheet-0",
    "slideshow": {
     "slide-type": "-"
    }
   },
   "source": [
    "References:\n",
    "- Pluskid, Discriminative Modeling vs Generative Modeling. http://freemind.pluskid.org/machine-learning/discriminative-modeling-vs-generative-modeling/\n",
    "- Andrew Y. Ng and Michael I. Jordan. 2002. On discriminative vs. generative classifiers: A comparison of logistic regression and naive bayes. In T. G. Dietterich, S. Becker, & Z. Ghahramani, eds. Advances in neural information processing systems 14. MIT Press, 841–848."
   ]
  },
  {
   "cell_type": "markdown",
   "metadata": {},
   "source": [
    "上面的二类数据分布看起来很好区分，因为两类数据的概率分布几乎没有「重叠」。事实上只要两类数据的概率分布不是完全重叠，他们还是可以有一定区分力的。"
   ]
  },
  {
   "cell_type": "code",
   "execution_count": 9,
   "metadata": {
    "autoscroll": false,
    "collapsed": true,
    "ein.tags": "worksheet-0",
    "slideshow": {
     "slide-type": "-"
    }
   },
   "outputs": [],
   "source": [
    "def truncated_norm(lower, upper, mu, sigma):\n",
    "    a = (lower - mu) / sigma\n",
    "    b = (upper - mu) / sigma\n",
    "    return stats.truncnorm(a, b, loc=mu, scale=sigma)\n",
    "\n",
    "real_data = truncated_norm(0, 1, 0.5, 0.2).rvs(1000)\n",
    "noise_data = stats.uniform(loc=0, scale=1).rvs(1000)"
   ]
  },
  {
   "cell_type": "code",
   "execution_count": 12,
   "metadata": {
    "autoscroll": false,
    "ein.tags": "worksheet-0",
    "slideshow": {
     "slide-type": "-"
    }
   },
   "outputs": [
    {
     "data": {
      "image/png": "[encoded data removed]",
      "text/plain": [
       "<matplotlib.figure.Figure at 0x1136bf390>"
      ]
     },
     "metadata": {},
     "output_type": "display_data"
    }
   ],
   "source": [
    "plt.hist(noise_data, alpha=0.5, label='noise');\n",
    "plt.hist(real_data, alpha=0.5, label='real');\n",
    "plt.legend();"
   ]
  },
  {
   "cell_type": "markdown",
   "metadata": {},
   "source": [
    "可以看到真实的分布（假设为正例）在 0.5 附近有更高的概率，因此可以设计一个简单的分类器，在 0.5 附近的点返回 1"
   ]
  },
  {
   "cell_type": "code",
   "execution_count": 30,
   "metadata": {
    "autoscroll": false,
    "collapsed": true,
    "ein.tags": "worksheet-0",
    "slideshow": {
     "slide-type": "-"
    }
   },
   "outputs": [],
   "source": [
    "def dummy_classify(x):\n",
    "    return np.abs(x - 0.5) < 0.2"
   ]
  },
  {
   "cell_type": "code",
   "execution_count": 31,
   "metadata": {
    "collapsed": true
   },
   "outputs": [],
   "source": [
    "y_pred = dummy_classify(np.concatenate((real_data, noise_data)))\n",
    "y_true = [1] * len(real_data) + [0] * len(noise_data)"
   ]
  },
  {
   "cell_type": "code",
   "execution_count": 32,
   "metadata": {
    "collapsed": true
   },
   "outputs": [],
   "source": [
    "from sklearn.metrics import accuracy_score"
   ]
  },
  {
   "cell_type": "code",
   "execution_count": 33,
   "metadata": {},
   "outputs": [
    {
     "data": {
      "text/plain": [
       "0.64800000000000002"
      ]
     },
     "execution_count": 33,
     "metadata": {},
     "output_type": "execute_result"
    }
   ],
   "source": [
    "accuracy_score(y_true, y_pred)"
   ]
  },
  {
   "cell_type": "markdown",
   "metadata": {},
   "source": [
    "可以看到，这样一个分类器也能获得一个比随机好的效果。"
   ]
  },
  {
   "cell_type": "markdown",
   "metadata": {
    "collapsed": true
   },
   "source": [
    "## Generative Adversarial Nets (GANs)"
   ]
  },
  {
   "cell_type": "markdown",
   "metadata": {},
   "source": [
    "![Album from NIPS 2016 Workshop on Adversarial Training](imgs/nips-2016-gan-album.jpg)\n",
    "Photo from https://sites.google.com/site/nips2016adversarial/"
   ]
  },
  {
   "cell_type": "markdown",
   "metadata": {},
   "source": [
    "GANs 的思想是让一个 DM 和一个 GM 进行对抗。其整体优化目标是:\n",
    "    \n",
    "$$ \\min_G\\max_D V(D, G) = E_{x \\sim P_{data}(x)}[\\log D(x)] + E_{z \\sim P_z(z)}[\\log (1 - D(G(z))]$$"
   ]
  },
  {
   "cell_type": "markdown",
   "metadata": {},
   "source": [
    "- 这个优化目标可以拆成两个部分来看：\n",
    "    - 对 DM 来说，其输入来自两个分布，即 $x \\sim P_{data}(x)$ 及 $z \\sim P_z(z)$\n",
    "        - 如果只看 $x \\sim P_{data}(x)$，那么 DM 面对的就是一个普通的二分类问题\n",
    "        - $z \\sim P_z(z)$ 是 GM 的输入分布，GM 会对该输入进行变换，变换之后的数据分布会和 $P_{data}$ 很像，即起到「伪造」的效果。而 DM 的另一个目标就是识别出这种「伪造」\n",
    "    - 对 GM 来说，目标就是「伪造」出和 $P_{data}$ 很像的分布。伪造的方法是从一个先验分布 $P_z$ 中采样数据，进行变换之后使之很像 $P_{data}$\n",
    "    \n",
    "[1] 中提供了一个很形象的图来表示这个过程，其中 Input Generator 对应为在 $P_z$ 中采样，由于 $P_z$ 完全是一个先验分布（如 Uniform Distribution)，其提供的数据是毫无「意义」的。而 GM 的作用就是「化腐朽为神奇」，将无意义的输入「伪造」成一个有意义的模式，让 DM 难以识别。\n",
    "\n",
    "![image.png](imgs/medium-blog-gan-figure.png)\n",
    "\n",
    "这个过程也可以想像成古董鉴定家和古董造假家的博弈过程。鉴定家一开始很容易就鉴定出造假的古董，造假家为了避免被识破，努力提高自己的姿势水平。随着造假家水平的提高，鉴定家也逐渐变得真假莫辨。"
   ]
  },
  {
   "cell_type": "markdown",
   "metadata": {},
   "source": [
    "References:\n",
    "- [1] Dav Nag, Generative Adversarial Networks (GANs) in 50 lines of code (PyTorch) https://medium.com/@devnag/generative-adversarial-networks-gans-in-50-lines-of-code-pytorch-e81b79659e3f"
   ]
  },
  {
   "cell_type": "markdown",
   "metadata": {},
   "source": [
    "\n",
    "### PyTorch 中的实现"
   ]
  },
  {
   "cell_type": "markdown",
   "metadata": {},
   "source": [
    "下面在 PyTorch 中实现一个简单的 GANs。"
   ]
  },
  {
   "cell_type": "code",
   "execution_count": 87,
   "metadata": {
    "collapsed": true
   },
   "outputs": [],
   "source": [
    "# 产生一组数据，模型不知道数据怎么产生的。\n",
    "data_num = 1000\n",
    "# x ~ [-1, 1]\n",
    "circle_x = (np.random.rand(data_num) - 0.5) * 2\n",
    "# y ~ sqrt(1 - x^2)\n",
    "# to generate a circle\n",
    "circle_y = np.random.choice([-1, 1], data_num) * np.sqrt(1 - circle_x ** 2)"
   ]
  },
  {
   "cell_type": "code",
   "execution_count": 88,
   "metadata": {},
   "outputs": [
    {
     "data": {
      "image/png": "[encoded data removed]",
      "text/plain": [
       "<matplotlib.figure.Figure at 0x111776e48>"
      ]
     },
     "metadata": {},
     "output_type": "display_data"
    }
   ],
   "source": [
    "fig, axes = plt.subplots(1)\n",
    "axes.scatter(circle_x, circle_y)\n",
    "axes.set_aspect('equal')"
   ]
  },
  {
   "cell_type": "code",
   "execution_count": 89,
   "metadata": {
    "collapsed": true
   },
   "outputs": [],
   "source": [
    "import torch\n",
    "import torch.nn as nn\n",
    "from torch.autograd import Variable"
   ]
  },
  {
   "cell_type": "code",
   "execution_count": 90,
   "metadata": {
    "collapsed": true
   },
   "outputs": [],
   "source": [
    "# A straight-forward 3-layer NN\n",
    "# Output: Sigmoid (probability)\n",
    "class Discriminator(nn.Module):\n",
    "    def __init__(self, input_dim):\n",
    "        super(Discriminator, self).__init__()\n",
    "        self.params = nn.Sequential(nn.Linear(input_dim, 128),\n",
    "                                    nn.LeakyReLU(),\n",
    "                                    nn.Linear(128, 128),\n",
    "                                    nn.LeakyReLU(),\n",
    "                                    nn.Linear(128, 1),\n",
    "                                    nn.Sigmoid())\n",
    "        \n",
    "    def forward(self, input):\n",
    "        return self.params(input)"
   ]
  },
  {
   "cell_type": "code",
   "execution_count": 91,
   "metadata": {
    "collapsed": true
   },
   "outputs": [],
   "source": [
    "class Generator(nn.Module):\n",
    "    def __init__(self, input_dim, output_dim):\n",
    "        super(Generator, self).__init__()        \n",
    "        self.params = nn.Sequential(nn.Linear(input_dim, 128),\n",
    "                                   nn.LeakyReLU(),\n",
    "                                   nn.Linear(128, 128),\n",
    "                                   nn.LeakyReLU(),\n",
    "                                   nn.Linear(128, output_dim),\n",
    "                                    nn.Tanh())\n",
    "    def forward(self, input):\n",
    "        return self.params(input)"
   ]
  },
  {
   "cell_type": "code",
   "execution_count": 92,
   "metadata": {
    "collapsed": true
   },
   "outputs": [],
   "source": [
    "dm = Discriminator(2)\n",
    "gm = Generator(2, 2)"
   ]
  },
  {
   "cell_type": "code",
   "execution_count": 93,
   "metadata": {
    "collapsed": true
   },
   "outputs": [],
   "source": [
    "sample_data = Variable(torch.rand(5, 2), volatile=True)"
   ]
  },
  {
   "cell_type": "code",
   "execution_count": 94,
   "metadata": {},
   "outputs": [
    {
     "data": {
      "text/plain": [
       "Variable containing:\n",
       " 0.4894\n",
       " 0.4856\n",
       " 0.4846\n",
       " 0.4830\n",
       " 0.4818\n",
       "[torch.FloatTensor of size 5x1]"
      ]
     },
     "execution_count": 94,
     "metadata": {},
     "output_type": "execute_result"
    }
   ],
   "source": [
    "# DM will output probabilty\n",
    "dm(sample_data)"
   ]
  },
  {
   "cell_type": "code",
   "execution_count": 95,
   "metadata": {},
   "outputs": [
    {
     "data": {
      "text/plain": [
       "Variable containing:\n",
       "1.00000e-02 *\n",
       "  1.3393  3.1988\n",
       "  0.4281  4.0543\n",
       "  0.7342  4.5782\n",
       " -0.3817  6.1955\n",
       " -3.9966  9.5822\n",
       "[torch.FloatTensor of size 5x2]"
      ]
     },
     "execution_count": 95,
     "metadata": {},
     "output_type": "execute_result"
    }
   ],
   "source": [
    "# GM will output faked 2-D data\n",
    "gm(sample_data)"
   ]
  },
  {
   "cell_type": "code",
   "execution_count": 96,
   "metadata": {},
   "outputs": [
    {
     "name": "stdout",
     "output_type": "stream",
     "text": [
      "torch.Size([1000, 2])\n"
     ]
    }
   ],
   "source": [
    "real_data = torch.FloatTensor(np.hstack((circle_x[:, np.newaxis], circle_y[:, np.newaxis])))\n",
    "print(real_data.size())"
   ]
  },
  {
   "cell_type": "code",
   "execution_count": 97,
   "metadata": {
    "collapsed": true
   },
   "outputs": [],
   "source": [
    "criterion = nn.BCELoss() # binary cross entropy loss\n",
    "d_optimizer = torch.optim.Adam(dm.parameters())\n",
    "g_optimizer = torch.optim.Adam(gm.parameters())"
   ]
  },
  {
   "cell_type": "markdown",
   "metadata": {},
   "source": [
    "!注意，这里模型训练可能需要运行比较久（本人电脑上5分钟左右）"
   ]
  },
  {
   "cell_type": "code",
   "execution_count": 98,
   "metadata": {
    "collapsed": true
   },
   "outputs": [],
   "source": [
    "num_epochs = 2000\n",
    "k = 5\n",
    "\n",
    "d_loss = []\n",
    "g_loss = []\n",
    "for epoch in range(num_epochs):\n",
    "    # Optimize DM\n",
    "    for d_step in range(k):\n",
    "        dm.zero_grad()\n",
    "        real = Variable(real_data)\n",
    "        d_preds = dm(real)\n",
    "        loss = criterion(d_preds, Variable(torch.ones(data_num)))        \n",
    "        loss.backward()\n",
    "        \n",
    "        g_input = Variable(torch.rand(data_num, 2))\n",
    "        # !important\n",
    "        # need to detach here, we only want to optimize DM in this loop\n",
    "        g_fake = gm(g_input).detach()\n",
    "        d_fake_preds = dm(g_fake)\n",
    "        loss = criterion(d_fake_preds, Variable(torch.zeros(data_num)))\n",
    "        if d_step == k - 1:\n",
    "            d_loss.append(loss.data[0])\n",
    "        loss.backward()\n",
    "        d_optimizer.step()\n",
    "        \n",
    "    # Optimize GM\n",
    "    gm.zero_grad()\n",
    "    g_input = Variable(torch.rand(data_num, 2))\n",
    "    g_fake = gm(g_input)\n",
    "    d_fake_preds = dm(g_fake)\n",
    "    # Notice the difference here, GM wants to trick DM\n",
    "    loss = criterion(d_fake_preds, Variable(torch.ones(data_num)))\n",
    "    g_loss.append(loss.data[0])\n",
    "    loss.backward()\n",
    "    g_optimizer.step()"
   ]
  },
  {
   "cell_type": "code",
   "execution_count": 99,
   "metadata": {},
   "outputs": [
    {
     "data": {
      "image/png": "[encoded data removed]",
      "text/plain": [
       "<matplotlib.figure.Figure at 0x111607208>"
      ]
     },
     "metadata": {},
     "output_type": "display_data"
    }
   ],
   "source": [
    "fig, axes = plt.subplots(nrows=1, ncols=2, figsize=(15, 3))\n",
    "axes[0].plot(range(len(d_loss)), d_loss, label='DM Loss')\n",
    "axes[0].legend()\n",
    "axes[1].plot(range(len(g_loss)), g_loss, label='GM Loss')\n",
    "axes[1].legend();"
   ]
  },
  {
   "cell_type": "markdown",
   "metadata": {},
   "source": [
    "训练之后，来看一下 G 现在生成的东西"
   ]
  },
  {
   "cell_type": "code",
   "execution_count": 100,
   "metadata": {
    "collapsed": true
   },
   "outputs": [],
   "source": [
    "g_input = Variable(torch.rand(data_num, 2), volatile=True)\n",
    "g_fake = gm(g_input)"
   ]
  },
  {
   "cell_type": "code",
   "execution_count": 101,
   "metadata": {
    "collapsed": true
   },
   "outputs": [],
   "source": [
    "gm_init = Generator(2, 2)\n",
    "g_fake_init = gm_init(g_input)"
   ]
  },
  {
   "cell_type": "code",
   "execution_count": 102,
   "metadata": {
    "collapsed": true
   },
   "outputs": [],
   "source": [
    "g_input_data = g_input.data.numpy()\n",
    "g_fake_data = g_fake.data.numpy()\n",
    "g_fake_init_data = g_fake_init.data.numpy()"
   ]
  },
  {
   "cell_type": "code",
   "execution_count": 103,
   "metadata": {},
   "outputs": [
    {
     "data": {
      "image/png": "[encoded data removed]",
      "text/plain": [
       "<matplotlib.figure.Figure at 0x106e70cc0>"
      ]
     },
     "metadata": {},
     "output_type": "display_data"
    }
   ],
   "source": [
    "fig, axes = plt.subplots(nrows=1, ncols=3, figsize=(15, 3))\n",
    "axes[0].scatter(g_input_data[:, 0], g_input_data[:, 1], label=\"GM's input\")\n",
    "axes[1].scatter(g_fake_init_data[:, 0], g_fake_init_data[:, 1], label=\"Untrained GM's output\")\n",
    "axes[2].scatter(g_fake_data[:, 0], g_fake_data[:, 1], label=\"Trained GM's output\")\n",
    "for ax in axes:\n",
    "    ax.set_aspect('equal')\n",
    "    ax.legend()"
   ]
  },
  {
   "cell_type": "markdown",
   "metadata": {
    "collapsed": true
   },
   "source": [
    "## Conditional GANs\n",
    "以 mnist dataset 为例，解释 Conditional GANs"
   ]
  },
  {
   "cell_type": "markdown",
   "metadata": {},
   "source": [
    "### MNIST 数据集读取\n",
    "- 一个著名的手写数字数据集"
   ]
  },
  {
   "cell_type": "code",
   "execution_count": 77,
   "metadata": {
    "collapsed": true
   },
   "outputs": [],
   "source": [
    "import torchvision.datasets as dset\n",
    "import torchvision.transforms as transforms\n",
    "import os"
   ]
  },
  {
   "cell_type": "code",
   "execution_count": 78,
   "metadata": {},
   "outputs": [],
   "source": [
    "if not os.path.exists('./data'):\n",
    "    os.mkdir('./data')\n",
    "    \n",
    "train_set = dset.MNIST(root='./data', train=True, \n",
    "                       transform=transforms.Compose([transforms.ToTensor(),                                        \n",
    "                                                     transforms.Normalize((0.5,), (1.0,))]),\n",
    "                       download=True)"
   ]
  },
  {
   "cell_type": "code",
   "execution_count": 70,
   "metadata": {},
   "outputs": [],
   "source": [
    "dataloader = torch.utils.data.DataLoader(train_set, batch_size=200, shuffle=True)"
   ]
  },
  {
   "cell_type": "markdown",
   "metadata": {},
   "source": [
    "Take a look at the data"
   ]
  },
  {
   "cell_type": "code",
   "execution_count": 71,
   "metadata": {},
   "outputs": [],
   "source": [
    "data_sample = next(iter(dataloader))"
   ]
  },
  {
   "cell_type": "markdown",
   "metadata": {},
   "source": [
    "- dataloader 迭代返回的每个元素是一个 list, 其第一个元素是这批 batch 的图像，第二个元素是这批 batch 的 label\n",
    "- 第一个元素是一个 FloatTensor, 大小为 (200 x 1 x 28 x 28)，即 (batch_size x channel x height x width)。因为是灰度图像，所以只有一个 channel\n",
    "- 因为 channel 这个维度没用，所以我们用 view 把它消解"
   ]
  },
  {
   "cell_type": "code",
   "execution_count": 72,
   "metadata": {},
   "outputs": [
    {
     "name": "stdout",
     "output_type": "stream",
     "text": [
      "torch.Size([200, 1, 28, 28])\n",
      "torch.Size([200, 28, 28])\n"
     ]
    }
   ],
   "source": [
    "print(data_sample[0].size())\n",
    "print(data_sample[0].view(-1, 28, 28).size())"
   ]
  },
  {
   "cell_type": "code",
   "execution_count": 74,
   "metadata": {},
   "outputs": [
    {
     "data": {
      "image/png": "[encoded data removed]",
      "text/plain": [
       "<matplotlib.figure.Figure at 0x1114ba128>"
      ]
     },
     "metadata": {},
     "output_type": "display_data"
    }
   ],
   "source": [
    "plt.imshow(data_sample[0].view(-1, 28, 28)[0].numpy(), cmap='gray');"
   ]
  },
  {
   "cell_type": "markdown",
   "metadata": {},
   "source": [
    "对于这样一个数据集，我们想用 GANs 的 Generator 自己产生对应的数字。如果用原始的 GANs 形式，需要针对 0-9 这 10 个数字产生对应 10 组模型。对更多类的问题，需要的模型会更多。而且各个模型之间互相独立，没有办法「共享」一部分他们学习的知识，这不是一个很好的解决方案。\n",
    "\n",
    "针对这个问题，Conditional GANs [1] 给出的方案是除了噪音输入 Z，给将每一个 $y$ 的信息也输入给 DM 及 GM（比如 embedding 形式）。其模型示意图（取自 [1]）及问题形式如下：\n",
    "\n",
    "![](./imgs/mirza-arxiv-14.png)\n",
    "\n",
    "$$ \\min_G\\max_D V(D, G) = E_{x \\sim P_{data}(x|y)}[\\log D(x)] + E_{z \\sim P_z(z)}[\\log (1 - D(G(z|y))]$$"
   ]
  },
  {
   "cell_type": "markdown",
   "metadata": {},
   "source": []
  }
 ],
 "metadata": {
  "kernelspec": {
   "display_name": "Python 3",
   "language": "python",
   "name": "python3"
  },
  "language_info": {
   "codemirror_mode": {
    "name": "ipython",
    "version": 3
   },
   "file_extension": ".py",
   "mimetype": "text/x-python",
   "name": "python",
   "nbconvert_exporter": "python",
   "pygments_lexer": "ipython3",
   "version": "3.6.1"
  },
  "name": "learn-gan.ipynb"
 },
 "nbformat": 4,
 "nbformat_minor": 2
}
